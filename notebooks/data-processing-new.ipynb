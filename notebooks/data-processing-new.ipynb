{
 "cells": [
  {
   "cell_type": "code",
   "execution_count": 103,
   "metadata": {},
   "outputs": [
    {
     "name": "stdout",
     "output_type": "stream",
     "text": [
      "<class 'pandas.core.frame.DataFrame'>\n",
      "RangeIndex: 5630 entries, 0 to 5629\n",
      "Data columns (total 20 columns):\n",
      " #   Column                       Non-Null Count  Dtype  \n",
      "---  ------                       --------------  -----  \n",
      " 0   CustomerID                   5630 non-null   int64  \n",
      " 1   Churn                        5630 non-null   int64  \n",
      " 2   Tenure                       5366 non-null   float64\n",
      " 3   PreferredLoginDevice         5630 non-null   object \n",
      " 4   CityTier                     5630 non-null   int64  \n",
      " 5   WarehouseToHome              5379 non-null   float64\n",
      " 6   PreferredPaymentMode         5630 non-null   object \n",
      " 7   Gender                       5630 non-null   object \n",
      " 8   HourSpendOnApp               5375 non-null   float64\n",
      " 9   NumberOfDeviceRegistered     5630 non-null   int64  \n",
      " 10  PreferedOrderCat             5630 non-null   object \n",
      " 11  SatisfactionScore            5630 non-null   int64  \n",
      " 12  MaritalStatus                5630 non-null   object \n",
      " 13  NumberOfAddress              5630 non-null   int64  \n",
      " 14  Complain                     5630 non-null   int64  \n",
      " 15  OrderAmountHikeFromlastYear  5365 non-null   float64\n",
      " 16  CouponUsed                   5374 non-null   float64\n",
      " 17  OrderCount                   5372 non-null   float64\n",
      " 18  DaySinceLastOrder            5323 non-null   float64\n",
      " 19  CashbackAmount               5630 non-null   float64\n",
      "dtypes: float64(8), int64(7), object(5)\n",
      "memory usage: 879.8+ KB\n",
      "None\n"
     ]
    }
   ],
   "source": [
    "import pandas as pd\n",
    "\n",
    "# Load the dataset\n",
    "\n",
    "fp= '/Users/maimunaz/Downloads/churn_prediction/data/raw/ECommerceDataset.xlsx'\n",
    "df = pd.read_excel(fp, sheet_name=\"E Comm\") \n",
    "\n",
    "# Display basic info\n",
    "print(df.info())\n"
   ]
  },
  {
   "cell_type": "code",
   "execution_count": 104,
   "metadata": {},
   "outputs": [
    {
     "name": "stdout",
     "output_type": "stream",
     "text": [
      "CustomerID                       0\n",
      "Churn                            0\n",
      "Tenure                         264\n",
      "PreferredLoginDevice             0\n",
      "CityTier                         0\n",
      "WarehouseToHome                251\n",
      "PreferredPaymentMode             0\n",
      "Gender                           0\n",
      "HourSpendOnApp                 255\n",
      "NumberOfDeviceRegistered         0\n",
      "PreferedOrderCat                 0\n",
      "SatisfactionScore                0\n",
      "MaritalStatus                    0\n",
      "NumberOfAddress                  0\n",
      "Complain                         0\n",
      "OrderAmountHikeFromlastYear    265\n",
      "CouponUsed                     256\n",
      "OrderCount                     258\n",
      "DaySinceLastOrder              307\n",
      "CashbackAmount                   0\n",
      "dtype: int64\n",
      "Duplicate rows: 0\n"
     ]
    }
   ],
   "source": [
    "# Check for missing values\n",
    "print(df.isnull().sum())\n",
    "\n",
    "# Check for duplicate entries\n",
    "print(f\"Duplicate rows: {df.duplicated().sum()}\")"
   ]
  },
  {
   "cell_type": "code",
   "execution_count": 105,
   "metadata": {},
   "outputs": [],
   "source": [
    "df.drop(columns=[\"CustomerID\"], inplace=True)"
   ]
  },
  {
   "cell_type": "code",
   "execution_count": 106,
   "metadata": {},
   "outputs": [],
   "source": [
    "# fill missing values in numerical columns with median\n",
    "num_cols = [\"Tenure\", \"WarehouseToHome\", \"HourSpendOnApp\", \n",
    "            \"OrderAmountHikeFromlastYear\", \"CouponUsed\", \n",
    "            \"OrderCount\", \"DaySinceLastOrder\"]\n",
    "df[num_cols] = df[num_cols].fillna(df[num_cols].median())\n"
   ]
  },
  {
   "cell_type": "code",
   "execution_count": 107,
   "metadata": {},
   "outputs": [
    {
     "name": "stdout",
     "output_type": "stream",
     "text": [
      "Churn                          0\n",
      "Tenure                         0\n",
      "PreferredLoginDevice           0\n",
      "CityTier                       0\n",
      "WarehouseToHome                0\n",
      "PreferredPaymentMode           0\n",
      "Gender                         0\n",
      "HourSpendOnApp                 0\n",
      "NumberOfDeviceRegistered       0\n",
      "PreferedOrderCat               0\n",
      "SatisfactionScore              0\n",
      "MaritalStatus                  0\n",
      "NumberOfAddress                0\n",
      "Complain                       0\n",
      "OrderAmountHikeFromlastYear    0\n",
      "CouponUsed                     0\n",
      "OrderCount                     0\n",
      "DaySinceLastOrder              0\n",
      "CashbackAmount                 0\n",
      "dtype: int64\n"
     ]
    }
   ],
   "source": [
    "# fill missing values in categorical columns with mode\n",
    "cat_cols = [\"PreferredLoginDevice\", \"PreferredPaymentMode\", \"PreferedOrderCat\"]\n",
    "for col in cat_cols:\n",
    "    df[col].fillna(df[col].mode()[0], inplace=True)\n",
    "\n",
    "# Check for missing values\n",
    "print(df.isnull().sum())"
   ]
  },
  {
   "cell_type": "code",
   "execution_count": 108,
   "metadata": {},
   "outputs": [
    {
     "name": "stdout",
     "output_type": "stream",
     "text": [
      "PreferredLoginDevice: ['Mobile Phone' 'Phone' 'Computer']\n",
      "PreferredPaymentMode: ['Debit Card' 'UPI' 'CC' 'Cash on Delivery' 'E wallet' 'COD' 'Credit Card']\n",
      "PreferedOrderCat: ['Laptop & Accessory' 'Mobile' 'Mobile Phone' 'Others' 'Fashion' 'Grocery']\n",
      "Gender: ['Female' 'Male']\n",
      "MaritalStatus: ['Single' 'Divorced' 'Married']\n"
     ]
    }
   ],
   "source": [
    "# List of categorical columns\n",
    "cat_cols = [\"PreferredLoginDevice\", \"PreferredPaymentMode\", \"PreferedOrderCat\", \"Gender\", \"MaritalStatus\"]\n",
    "\n",
    "# Print unique values for each column\n",
    "for col in cat_cols:\n",
    "    print(f\"{col}: {df[col].unique()}\")\n"
   ]
  },
  {
   "cell_type": "code",
   "execution_count": 109,
   "metadata": {},
   "outputs": [
    {
     "name": "stdout",
     "output_type": "stream",
     "text": [
      "   Churn  Tenure  CityTier  WarehouseToHome  Gender  HourSpendOnApp  \\\n",
      "0      1     4.0         3              6.0       0             3.0   \n",
      "1      1     9.0         1              8.0       1             3.0   \n",
      "2      1     9.0         1             30.0       1             2.0   \n",
      "3      1     0.0         3             15.0       1             2.0   \n",
      "4      1     0.0         1             12.0       1             3.0   \n",
      "\n",
      "   NumberOfDeviceRegistered  SatisfactionScore  NumberOfAddress  Complain  \\\n",
      "0                         3                  2                9         1   \n",
      "1                         4                  3                7         1   \n",
      "2                         4                  3                6         1   \n",
      "3                         4                  5                8         0   \n",
      "4                         3                  5                3         0   \n",
      "\n",
      "   ...  PreferredPaymentMode_Debit Card  PreferredPaymentMode_E wallet  \\\n",
      "0  ...                             True                          False   \n",
      "1  ...                            False                          False   \n",
      "2  ...                             True                          False   \n",
      "3  ...                             True                          False   \n",
      "4  ...                            False                          False   \n",
      "\n",
      "   PreferredPaymentMode_UPI  PreferedOrderCat_Grocery  \\\n",
      "0                     False                     False   \n",
      "1                      True                     False   \n",
      "2                     False                     False   \n",
      "3                     False                     False   \n",
      "4                     False                     False   \n",
      "\n",
      "   PreferedOrderCat_Laptop & Accessory  PreferedOrderCat_Mobile  \\\n",
      "0                                 True                    False   \n",
      "1                                False                     True   \n",
      "2                                False                     True   \n",
      "3                                 True                    False   \n",
      "4                                False                     True   \n",
      "\n",
      "   PreferedOrderCat_Mobile Phone  PreferedOrderCat_Others  \\\n",
      "0                          False                    False   \n",
      "1                          False                    False   \n",
      "2                          False                    False   \n",
      "3                          False                    False   \n",
      "4                          False                    False   \n",
      "\n",
      "   MaritalStatus_Married  MaritalStatus_Single  \n",
      "0                  False                  True  \n",
      "1                  False                  True  \n",
      "2                  False                  True  \n",
      "3                  False                  True  \n",
      "4                  False                  True  \n",
      "\n",
      "[5 rows x 30 columns]\n"
     ]
    }
   ],
   "source": [
    "from sklearn.preprocessing import LabelEncoder, OneHotEncoder\n",
    "import pandas as pd\n",
    "\n",
    "# Label Encoding for binary categorical columns\n",
    "label_enc = LabelEncoder()\n",
    "df[\"Gender\"] = label_enc.fit_transform(df[\"Gender\"])\n",
    "\n",
    "# One-Hot Encoding for multi-category columns\n",
    "df = pd.get_dummies(df, columns=[\"PreferredLoginDevice\", \"PreferredPaymentMode\", \"PreferedOrderCat\", \"MaritalStatus\"], drop_first=True)\n",
    "\n",
    "# Check transformed data\n",
    "print(df.head())\n"
   ]
  },
  {
   "cell_type": "code",
   "execution_count": 110,
   "metadata": {},
   "outputs": [
    {
     "name": "stdout",
     "output_type": "stream",
     "text": [
      "Churn                                      int64\n",
      "Tenure                                   float64\n",
      "CityTier                                   int64\n",
      "WarehouseToHome                          float64\n",
      "Gender                                     int64\n",
      "HourSpendOnApp                           float64\n",
      "NumberOfDeviceRegistered                   int64\n",
      "SatisfactionScore                          int64\n",
      "NumberOfAddress                            int64\n",
      "Complain                                   int64\n",
      "OrderAmountHikeFromlastYear              float64\n",
      "CouponUsed                               float64\n",
      "OrderCount                               float64\n",
      "DaySinceLastOrder                        float64\n",
      "CashbackAmount                           float64\n",
      "PreferredLoginDevice_Mobile Phone           bool\n",
      "PreferredLoginDevice_Phone                  bool\n",
      "PreferredPaymentMode_COD                    bool\n",
      "PreferredPaymentMode_Cash on Delivery       bool\n",
      "PreferredPaymentMode_Credit Card            bool\n",
      "PreferredPaymentMode_Debit Card             bool\n",
      "PreferredPaymentMode_E wallet               bool\n",
      "PreferredPaymentMode_UPI                    bool\n",
      "PreferedOrderCat_Grocery                    bool\n",
      "PreferedOrderCat_Laptop & Accessory         bool\n",
      "PreferedOrderCat_Mobile                     bool\n",
      "PreferedOrderCat_Mobile Phone               bool\n",
      "PreferedOrderCat_Others                     bool\n",
      "MaritalStatus_Married                       bool\n",
      "MaritalStatus_Single                        bool\n",
      "dtype: object\n"
     ]
    }
   ],
   "source": [
    "print(df.dtypes)\n"
   ]
  },
  {
   "cell_type": "code",
   "execution_count": 111,
   "metadata": {},
   "outputs": [],
   "source": [
    "bool_cols = df.select_dtypes(include=['bool']).columns  # Find boolean columns\n",
    "df[bool_cols] = df[bool_cols].astype(int)"
   ]
  },
  {
   "cell_type": "code",
   "execution_count": 112,
   "metadata": {},
   "outputs": [
    {
     "name": "stdout",
     "output_type": "stream",
     "text": [
      "   Churn  Tenure  CityTier  WarehouseToHome  Gender  HourSpendOnApp  \\\n",
      "0      1     4.0         3              6.0       0             3.0   \n",
      "1      1     9.0         1              8.0       1             3.0   \n",
      "2      1     9.0         1             30.0       1             2.0   \n",
      "3      1     0.0         3             15.0       1             2.0   \n",
      "4      1     0.0         1             12.0       1             3.0   \n",
      "\n",
      "   NumberOfDeviceRegistered  SatisfactionScore  NumberOfAddress  Complain  \\\n",
      "0                         3                  2                9         1   \n",
      "1                         4                  3                7         1   \n",
      "2                         4                  3                6         1   \n",
      "3                         4                  5                8         0   \n",
      "4                         3                  5                3         0   \n",
      "\n",
      "   ...  PreferredPaymentMode_Debit Card  PreferredPaymentMode_E wallet  \\\n",
      "0  ...                                1                              0   \n",
      "1  ...                                0                              0   \n",
      "2  ...                                1                              0   \n",
      "3  ...                                1                              0   \n",
      "4  ...                                0                              0   \n",
      "\n",
      "   PreferredPaymentMode_UPI  PreferedOrderCat_Grocery  \\\n",
      "0                         0                         0   \n",
      "1                         1                         0   \n",
      "2                         0                         0   \n",
      "3                         0                         0   \n",
      "4                         0                         0   \n",
      "\n",
      "   PreferedOrderCat_Laptop & Accessory  PreferedOrderCat_Mobile  \\\n",
      "0                                    1                        0   \n",
      "1                                    0                        1   \n",
      "2                                    0                        1   \n",
      "3                                    1                        0   \n",
      "4                                    0                        1   \n",
      "\n",
      "   PreferedOrderCat_Mobile Phone  PreferedOrderCat_Others  \\\n",
      "0                              0                        0   \n",
      "1                              0                        0   \n",
      "2                              0                        0   \n",
      "3                              0                        0   \n",
      "4                              0                        0   \n",
      "\n",
      "   MaritalStatus_Married  MaritalStatus_Single  \n",
      "0                      0                     1  \n",
      "1                      0                     1  \n",
      "2                      0                     1  \n",
      "3                      0                     1  \n",
      "4                      0                     1  \n",
      "\n",
      "[5 rows x 30 columns]\n"
     ]
    }
   ],
   "source": [
    "print(df.head())"
   ]
  },
  {
   "cell_type": "code",
   "execution_count": 113,
   "metadata": {},
   "outputs": [],
   "source": [
    "import pandas as pd\n",
    "from sklearn.model_selection import train_test_split\n",
    "\n",
    "# Split dataset (80% train-test, 20% reserved for demo/testing)\n",
    "train_test_data, demo_test_data = train_test_split(df, test_size=0.2, random_state=42, stratify=df[\"Churn\"])\n",
    "\n",
    "# Save the datasets\n",
    "train_test_data.to_csv(\"/Users/maimunaz/Downloads/churn_prediction/data/processed/train_test.csv\", index=False)\n",
    "demo_test_data.to_csv(\"/Users/maimunaz/Downloads/churn_prediction/data/processed/demo_test.csv\", index=False)\n"
   ]
  },
  {
   "cell_type": "code",
   "execution_count": 114,
   "metadata": {},
   "outputs": [],
   "source": [
    "import pandas as pd\n",
    "from sklearn.model_selection import train_test_split\n",
    "\n",
    "# Split dataset (80% train-test, 20% reserved for demo/testing)\n",
    "train_test_data, demo_test_data = train_test_split(df, test_size=0.2, random_state=42, stratify=df[\"Churn\"])\n",
    "\n",
    "# Save the datasets as Excel files\n",
    "train_test_data.to_excel(\"/Users/maimunaz/Downloads/churn_prediction/data/processed/train_test.xlsx\", index=False)\n",
    "demo_test_data.to_excel(\"/Users/maimunaz/Downloads/churn_prediction/data/processed/demo_test.xlsx\", index=False)\n"
   ]
  }
 ],
 "metadata": {
  "kernelspec": {
   "display_name": "base",
   "language": "python",
   "name": "python3"
  },
  "language_info": {
   "codemirror_mode": {
    "name": "ipython",
    "version": 3
   },
   "file_extension": ".py",
   "mimetype": "text/x-python",
   "name": "python",
   "nbconvert_exporter": "python",
   "pygments_lexer": "ipython3",
   "version": "3.10.10"
  }
 },
 "nbformat": 4,
 "nbformat_minor": 2
}
